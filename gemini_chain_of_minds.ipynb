{
  "nbformat": 4,
  "nbformat_minor": 0,
  "metadata": {
    "colab": {
      "provenance": [],
      "authorship_tag": "ABX9TyNWZTRBuuYdCQd8/JLW0Bop",
      "include_colab_link": true
    },
    "kernelspec": {
      "name": "python3",
      "display_name": "Python 3"
    },
    "language_info": {
      "name": "python"
    }
  },
  "cells": [
    {
      "cell_type": "markdown",
      "metadata": {
        "id": "view-in-github",
        "colab_type": "text"
      },
      "source": [
        "<a href=\"https://colab.research.google.com/github/Bayzid03/gemini-chain-of-minds/blob/main/gemini_chain_of_minds.ipynb\" target=\"_parent\"><img src=\"https://colab.research.google.com/assets/colab-badge.svg\" alt=\"Open In Colab\"/></a>"
      ]
    },
    {
      "cell_type": "code",
      "execution_count": null,
      "metadata": {
        "id": "YA_DGt-O-rL-"
      },
      "outputs": [],
      "source": [
        "%pip install google-generativeai"
      ]
    },
    {
      "cell_type": "code",
      "source": [
        "import os\n",
        "from google.colab import userdata\n",
        "import google.generativeai as genai\n",
        "\n",
        "def configure():\n",
        "    secret_name = \"GOOGLE_API_KEY\"\n",
        "\n",
        "    api_key = userdata.get(secret_name)\n",
        "    if not api_key:\n",
        "        raise ValueError(f\"Secret '{secret_name}' not found. Please check the name in Colab's Secrets.\")\n",
        "\n",
        "    genai.configure(api_key=api_key)\n",
        "    return genai.GenerativeModel('gemini-1.5-pro-latest')"
      ],
      "metadata": {
        "id": "05xWVFFR_A72"
      },
      "execution_count": null,
      "outputs": []
    }
  ]
}