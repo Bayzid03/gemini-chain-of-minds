{
  "nbformat": 4,
  "nbformat_minor": 0,
  "metadata": {
    "colab": {
      "provenance": [],
      "authorship_tag": "ABX9TyP5m8Gafu/ytd61w/OGUo9l",
      "include_colab_link": true
    },
    "kernelspec": {
      "name": "python3",
      "display_name": "Python 3"
    },
    "language_info": {
      "name": "python"
    }
  },
  "cells": [
    {
      "cell_type": "markdown",
      "metadata": {
        "id": "view-in-github",
        "colab_type": "text"
      },
      "source": [
        "<a href=\"https://colab.research.google.com/github/Bayzid03/gemini-chain-of-minds/blob/main/gemini_chain_of_minds.ipynb\" target=\"_parent\"><img src=\"https://colab.research.google.com/assets/colab-badge.svg\" alt=\"Open In Colab\"/></a>"
      ]
    },
    {
      "cell_type": "code",
      "execution_count": null,
      "metadata": {
        "id": "YA_DGt-O-rL-"
      },
      "outputs": [],
      "source": [
        "%pip install google-generativeai"
      ]
    },
    {
      "cell_type": "code",
      "source": [
        "import os\n",
        "from google.colab import userdata\n",
        "import google.generativeai as genai\n",
        "\n",
        "def configure():\n",
        "    secret_name = \"GOOGLE_API_KEY\"\n",
        "\n",
        "    api_key = userdata.get(secret_name)\n",
        "    if not api_key:\n",
        "        raise ValueError(f\"Secret '{secret_name}' not found. Please check the name in Colab's Secrets.\")\n",
        "\n",
        "    genai.configure(api_key=api_key)\n",
        "    return genai.GenerativeModel('gemini-1.5-pro-latest')"
      ],
      "metadata": {
        "id": "05xWVFFR_A72"
      },
      "execution_count": null,
      "outputs": []
    },
    {
      "cell_type": "code",
      "source": [
        "def planner_agent(model, topic: str) -> list[str]:\n",
        "    print(\"Planner Agent: Creating a research plan...\")\n",
        "    prompt = f\"\"\"\n",
        "    You are an expert research planner. Your task is to break down the following topic\n",
        "    into 3-5 specific, answerable questions. Return these questions as a Python list of strings.\n",
        "\n",
        "    TOPIC: \"{topic}\"\n",
        "\n",
        "    Example output: [\"question 1\", \"question 2\", \"question 3\"]\n",
        "    \"\"\"\n",
        "\n",
        "    try:\n",
        "        response = model.generate_content(prompt)\n",
        "        plan_str = response.text.strip().replace('[', '').replace(']', '').replace('\"', '')\n",
        "        plan = [q.strip() for q in plan_str.split(',') if q.strip()]\n",
        "\n",
        "        print(\"Plan created:\")\n",
        "        for i, q in enumerate(plan, 1):\n",
        "            print(f\"   {i}. {q}\")\n",
        "        return plan\n",
        "    except Exception as e:\n",
        "        print(f\"Error in Planner Agent: {e}\")\n",
        "        return []"
      ],
      "metadata": {
        "id": "uB-h4nXK8ITa"
      },
      "execution_count": null,
      "outputs": []
    },
    {
      "cell_type": "code",
      "source": [
        "def search_agent(model, question: str) -> str:\n",
        "    print(f\"Search Agent: Researching question: '{question}'...\")\n",
        "    try:\n",
        "        search_tool = genai.protos.Tool(\n",
        "            google_search_retrieval=genai.protos.GoogleSearchRetrieval(disable_attribution=True)\n",
        "        )\n",
        "        prompt = f\"Provide a detailed answer to the following question: {question}\"\n",
        "        response = model.generate_content(prompt, tools=[search_tool])\n",
        "\n",
        "        print(\"   - Information found.\")\n",
        "        return response.text\n",
        "    except Exception as e:\n",
        "        print(f\"Error in Search Agent: {e}\")\n",
        "        return \"\""
      ],
      "metadata": {
        "id": "joApg-ESVnKf"
      },
      "execution_count": null,
      "outputs": []
    },
    {
      "cell_type": "code",
      "source": [
        "def synthesizer_agent(model, topic: str, research_results: list) -> str:\n",
        "    print(\"Synthesizer Agent: Writing the final report...\")\n",
        "\n",
        "    research_notes = \"\"\n",
        "    for question, data in research_results:\n",
        "        research_notes += f\"### Question: {question}\\n### Research Data:\\n{data}\\n\\n---\\n\\n\"\n",
        "\n",
        "    prompt = f\"\"\"\n",
        "    You are an expert research analyst. Your task is to synthesize the provided research notes\n",
        "    into a comprehensive, well-structured report on the topic: \"{topic}\".\n",
        "\n",
        "    The report should have an introduction, a body that covers the key findings from the notes,\n",
        "    and a conclusion. Use the information from the research notes ONLY.\n",
        "\n",
        "    ## Research Notes ##\n",
        "    {research_notes}\n",
        "    \"\"\"\n",
        "    try:\n",
        "        response = model.generate_content(prompt)\n",
        "        return response.text\n",
        "    except Exception as e:\n",
        "        print(f\"Error in Synthesizer Agent: {e}\")\n",
        "        return \"Error: Could not generate the final report.\""
      ],
      "metadata": {
        "id": "UalZFv9cVu3w"
      },
      "execution_count": null,
      "outputs": []
    }
  ]
}